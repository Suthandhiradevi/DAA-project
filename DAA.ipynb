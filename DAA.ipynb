{
 "cells": [
  {
   "cell_type": "markdown",
   "id": "ebb290fc",
   "metadata": {},
   "source": [
    "# Implement the following DS in Python, Upload the code on GitHub, and share your GitHub Link here.\n",
    "1. Stack Using Array\n",
    "2. Stack using Linked List\n",
    "3. Queue using Array\n",
    "4. Queue using Linked List\n",
    "5. Priority Queue\n",
    "6. Circular Queue"
   ]
  },
  {
   "cell_type": "markdown",
   "id": "95604772",
   "metadata": {},
   "source": [
    "### 1. Stack Using Array"
   ]
  },
  {
   "cell_type": "code",
   "execution_count": null,
   "id": "3f497aa2",
   "metadata": {},
   "outputs": [],
   "source": [
    "class StackArray:\n",
    "    def __init__(self):\n",
    "        self.items = []\n",
    "\n",
    "    def push(self, item):\n",
    "        self.items.append(item)\n",
    "\n",
    "    def pop(self):\n",
    "        if not self.is_empty():\n",
    "            return self.items.pop()\n",
    "        else:\n",
    "            raise IndexError(\"pop from an empty stack\")\n",
    "\n",
    "    def is_empty(self):\n",
    "        return len(self.items) == 0\n",
    "\n",
    "    def peek(self):\n",
    "        if not self.is_empty():\n",
    "            return self.items[-1]\n",
    "        else:\n",
    "            raise IndexError(\"peek from an empty stack\")\n",
    "\n",
    "    def size(self):\n",
    "        return len(self.items)\n"
   ]
  },
  {
   "cell_type": "markdown",
   "id": "b3905696",
   "metadata": {},
   "source": [
    "### 2. Stack using Linked List"
   ]
  },
  {
   "cell_type": "code",
   "execution_count": null,
   "id": "6ae547c4",
   "metadata": {},
   "outputs": [],
   "source": [
    "class Node:\n",
    "    def __init__(self, data):\n",
    "        self.data = data\n",
    "        self.next = None\n",
    "\n",
    "class StackLinkedList:\n",
    "    def __init__(self):\n",
    "        self.top = None\n",
    "\n",
    "    def push(self, item):\n",
    "        new_node = Node(item)\n",
    "        new_node.next = self.top\n",
    "        self.top = new_node\n",
    "\n",
    "    def pop(self):\n",
    "        if not self.is_empty():\n",
    "            popped = self.top\n",
    "            self.top = self.top.next\n",
    "            return popped.data\n",
    "        else:\n",
    "            raise IndexError(\"pop from an empty stack\")\n",
    "\n",
    "    def is_empty(self):\n",
    "        return self.top is None\n",
    "\n",
    "    def peek(self):\n",
    "        if not self.is_empty():\n",
    "            return self.top.data\n",
    "        else:\n",
    "            raise IndexError(\"peek from an empty stack\")\n"
   ]
  },
  {
   "cell_type": "markdown",
   "id": "a1cb1948",
   "metadata": {},
   "source": [
    "### 3. Queue using Array"
   ]
  },
  {
   "cell_type": "code",
   "execution_count": null,
   "id": "23d10793",
   "metadata": {},
   "outputs": [],
   "source": [
    "class QueueArray:\n",
    "    def __init__(self):\n",
    "        self.items = []\n",
    "\n",
    "    def enqueue(self, item):\n",
    "        self.items.append(item)\n",
    "\n",
    "    def dequeue(self):\n",
    "        if not self.is_empty():\n",
    "            return self.items.pop(0)\n",
    "        else:\n",
    "            raise IndexError(\"dequeue from an empty queue\")\n",
    "\n",
    "    def is_empty(self):\n",
    "        return len(self.items) == 0\n",
    "\n",
    "    def size(self):\n",
    "        return len(self.items)\n"
   ]
  },
  {
   "cell_type": "markdown",
   "id": "6880af0a",
   "metadata": {},
   "source": [
    "### 4. Queue using Linked List"
   ]
  },
  {
   "cell_type": "code",
   "execution_count": null,
   "id": "215062f2",
   "metadata": {},
   "outputs": [],
   "source": [
    "class Node:\n",
    "    def __init__(self, data):\n",
    "        self.data = data\n",
    "        self.next = None\n",
    "\n",
    "class QueueLinkedList:\n",
    "    def __init__(self):\n",
    "        self.front = None\n",
    "        self.rear = None\n",
    "\n",
    "    def enqueue(self, item):\n",
    "        new_node = Node(item)\n",
    "        if self.rear is None:\n",
    "            self.front = new_node\n",
    "            self.rear = new_node\n",
    "        else:\n",
    "            self.rear.next = new_node\n",
    "            self.rear = new_node\n",
    "\n",
    "    def dequeue(self):\n",
    "        if not self.is_empty():\n",
    "            dequeued = self.front\n",
    "            self.front = self.front.next\n",
    "            if self.front is None:\n",
    "                self.rear = None\n",
    "            return dequeued.data\n",
    "        else:\n",
    "            raise IndexError(\"dequeue from an empty queue\")\n",
    "\n",
    "    def is_empty(self):\n",
    "        return self.front is None\n"
   ]
  },
  {
   "cell_type": "markdown",
   "id": "58b0963d",
   "metadata": {},
   "source": [
    "### 5. Priority Queue"
   ]
  },
  {
   "cell_type": "code",
   "execution_count": null,
   "id": "9af226b3",
   "metadata": {},
   "outputs": [],
   "source": [
    "import heapq\n",
    "\n",
    "class PriorityQueue:\n",
    "    def __init__(self):\n",
    "        self.heap = []\n",
    "\n",
    "    def enqueue(self, item, priority):\n",
    "        heapq.heappush(self.heap, (priority, item))\n",
    "\n",
    "    def dequeue(self):\n",
    "        if not self.is_empty():\n",
    "            return heapq.heappop(self.heap)[1]\n",
    "        else:\n",
    "            raise IndexError(\"dequeue from an empty priority queue\")\n",
    "\n",
    "    def is_empty(self):\n",
    "        return len(self.heap) == 0\n"
   ]
  },
  {
   "cell_type": "markdown",
   "id": "19f549de",
   "metadata": {},
   "source": [
    "### 6. Circular Queue"
   ]
  },
  {
   "cell_type": "code",
   "execution_count": null,
   "id": "ddf0597d",
   "metadata": {},
   "outputs": [],
   "source": [
    "class CircularQueue:\n",
    "    def __init__(self, max_size):\n",
    "        self.max_size = max_size\n",
    "        self.queue = [None] * max_size\n",
    "        self.front = self.rear = -1\n",
    "\n",
    "    def enqueue(self, item):\n",
    "        if (self.rear + 1) % self.max_size == self.front:\n",
    "            raise IndexError(\"enqueue to a full circular queue\")\n",
    "        elif self.is_empty():\n",
    "            self.front = self.rear = 0\n",
    "        else:\n",
    "            self.rear = (self.rear + 1) % self.max_size\n",
    "        self.queue[self.rear] = item\n",
    "\n",
    "    def dequeue(self):\n",
    "        if not self.is_empty():\n",
    "            dequeued = self.queue[self.front]\n",
    "            if self.front == self.rear:\n",
    "                self.front = self.rear = -1\n",
    "            else:\n",
    "                self.front = (self.front + 1) % self.max_size\n",
    "            return dequeued\n",
    "        else:\n",
    "            raise IndexError(\"dequeue from an empty circular queue\")\n",
    "\n",
    "    def is_empty(self):\n",
    "        return self.front == self.rear == -1\n",
    "\n",
    "    def is_full(self):\n",
    "        return (self.rear + 1) % self.max_size == self.front\n"
   ]
  }
 ],
 "metadata": {
  "kernelspec": {
   "display_name": "Python 3 (ipykernel)",
   "language": "python",
   "name": "python3"
  },
  "language_info": {
   "codemirror_mode": {
    "name": "ipython",
    "version": 3
   },
   "file_extension": ".py",
   "mimetype": "text/x-python",
   "name": "python",
   "nbconvert_exporter": "python",
   "pygments_lexer": "ipython3",
   "version": "3.10.9"
  }
 },
 "nbformat": 4,
 "nbformat_minor": 5
}
